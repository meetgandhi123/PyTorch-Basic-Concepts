{
  "nbformat": 4,
  "nbformat_minor": 0,
  "metadata": {
    "colab": {
      "name": "03: Logistic Regression.ipynb",
      "provenance": [],
      "collapsed_sections": [],
      "authorship_tag": "ABX9TyMiF3PIuethIlVUle0V2I/l",
      "include_colab_link": true
    },
    "kernelspec": {
      "name": "python3",
      "display_name": "Python 3"
    },
    "language_info": {
      "name": "python"
    }
  },
  "cells": [
    {
      "cell_type": "markdown",
      "metadata": {
        "id": "view-in-github",
        "colab_type": "text"
      },
      "source": [
        "<a href=\"https://colab.research.google.com/github/meetgandhi123/PyTorch-Basic-Concepts/blob/main/03_Logistic_Regression.ipynb\" target=\"_parent\"><img src=\"https://colab.research.google.com/assets/colab-badge.svg\" alt=\"Open In Colab\"/></a>"
      ]
    },
    {
      "cell_type": "code",
      "metadata": {
        "colab": {
          "base_uri": "https://localhost:8080/"
        },
        "id": "-FfHnQlzKF6B",
        "outputId": "d4eb3537-adc3-4935-8d20-2b937d9c0f20"
      },
      "source": [
        "import torch\n",
        "import torch.nn as nn\n",
        "import numpy as np\n",
        "from sklearn import datasets\n",
        "from sklearn.preprocessing import StandardScaler\n",
        "from sklearn.model_selection import train_test_split\n",
        "\n",
        "# Generate Data\n",
        "bc = datasets.load_breast_cancer()\n",
        "x,y = bc.data, bc.target\n",
        "\n",
        "n_sample, n_features = x.shape\n",
        "# n_samples = 530, n_features=30\n",
        "\n",
        "x_train, x_test, y_train, y_test = train_test_split(x,y, test_size=0.2, random_state=1234)\n",
        "\n",
        "# Scale\n",
        "sc = StandardScaler()\n",
        "x_train = sc.fit_transform(x_train)\n",
        "x_test = sc.transform(x_test)\n",
        "\n",
        "x_train = torch.from_numpy(x_train.astype(np.float32)) #size()=> [455,30]\n",
        "x_test = torch.from_numpy(x_test.astype(np.float32))   #size()=> [114,30]\n",
        "y_train = torch.from_numpy(y_train.astype(np.float32)) #size()=> [455]\n",
        "y_test = torch.from_numpy(y_test.astype(np.float32))   #size()=> [114]\n",
        "\n",
        "y_train = y_train.view(-1,1) #size()=> [455]\n",
        "y_test = y_test.view(-1,1)   #size()=> [114]\n",
        "\n",
        "# Make Model (input output size)\n",
        "class LogisticRegression(nn.Module):\n",
        "    def __init__(self,n_input_features):\n",
        "      super(LogisticRegression,self).__init__()\n",
        "      self.linear = nn.Linear(n_input_features,1)\n",
        "    \n",
        "    def forward(self,x):\n",
        "      y_predicted = torch.sigmoid(self.linear(x))\n",
        "      return y_predicted\n",
        "\n",
        "model = LogisticRegression(n_features)\n",
        "\n",
        "# Loss and Optimization\n",
        "lr=0.01\n",
        "criterion = nn.BCELoss()\n",
        "optimizer = torch.optim.SGD(model.parameters(), lr=lr)\n",
        "\n",
        "# Training loop\n",
        "num_epoch = 100\n",
        "\n",
        "for epoch in range(num_epoch):\n",
        "    # Forward Pass: Compute prediction and Loss\n",
        "    y_predicted = model(x_train)\n",
        "    loss = criterion(y_predicted, y_train)\n",
        "\n",
        "    # Backpropogation\n",
        "    loss.backward()\n",
        "\n",
        "    # Update weights\n",
        "    optimizer.step()\n",
        "\n",
        "    # zero grad\n",
        "    optimizer.zero_grad()\n",
        "\n",
        "    if (epoch+1)%10 == 0:\n",
        "        print(f'Epoch: {epoch+1}, Loss: {loss.item():.3f}')\n",
        "\n",
        "with torch.no_grad():\n",
        "    y_predicted = model(x_test)\n",
        "    y_pred_classes=y_predicted .round()\n",
        "    acc= y_pred_classes.eq(y_test).sum() / float(y_test.shape[0])\n",
        "    print(f'Accuracy:{acc:.4f}')"
      ],
      "execution_count": 31,
      "outputs": [
        {
          "output_type": "stream",
          "text": [
            "Epoch: 10, Loss: 0.764\n",
            "Epoch: 20, Loss: 0.582\n",
            "Epoch: 30, Loss: 0.479\n",
            "Epoch: 40, Loss: 0.413\n",
            "Epoch: 50, Loss: 0.368\n",
            "Epoch: 60, Loss: 0.335\n",
            "Epoch: 70, Loss: 0.309\n",
            "Epoch: 80, Loss: 0.289\n",
            "Epoch: 90, Loss: 0.272\n",
            "Epoch: 100, Loss: 0.258\n",
            "Accuracy:0.9035\n"
          ],
          "name": "stdout"
        }
      ]
    }
  ]
}
