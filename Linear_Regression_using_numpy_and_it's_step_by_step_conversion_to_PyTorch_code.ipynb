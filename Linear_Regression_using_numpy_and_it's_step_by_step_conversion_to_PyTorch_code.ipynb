{
  "nbformat": 4,
  "nbformat_minor": 0,
  "metadata": {
    "colab": {
      "name": "Linear Regression using numpy and it's step by step conversion to PyTorch code.ipynb",
      "provenance": [],
      "collapsed_sections": [
        "1hDfhyMGHJ8z",
        "n-Vv2Hq1HO1V",
        "seO740msKC3h"
      ],
      "authorship_tag": "ABX9TyOpz5M3teQImwv4UAl4LI0y",
      "include_colab_link": true
    },
    "kernelspec": {
      "name": "python3",
      "display_name": "Python 3"
    },
    "language_info": {
      "name": "python"
    }
  },
  "cells": [
    {
      "cell_type": "markdown",
      "metadata": {
        "id": "view-in-github",
        "colab_type": "text"
      },
      "source": [
        "<a href=\"https://colab.research.google.com/github/meetgandhi123/PyTorch-Basic-Concepts/blob/main/Linear_Regression_using_numpy_and_it's_step_by_step_conversion_to_PyTorch_code.ipynb\" target=\"_parent\"><img src=\"https://colab.research.google.com/assets/colab-badge.svg\" alt=\"Open In Colab\"/></a>"
      ]
    },
    {
      "cell_type": "markdown",
      "metadata": {
        "id": "1hDfhyMGHJ8z"
      },
      "source": [
        "## Linear Regression using Numpy only.\n",
        "\n",
        "\n",
        "*   Prediction : Manually\n",
        "*   Gradient Computation : Manually\n",
        "*   Loss Computation : Manually\n",
        "*   parameter Update : Manually\n",
        "\n",
        "\n"
      ]
    },
    {
      "cell_type": "code",
      "metadata": {
        "colab": {
          "base_uri": "https://localhost:8080/"
        },
        "id": "lFjkyQZ-Bjfc",
        "outputId": "6e29735b-f954-4ca3-94eb-c486028bcf8c"
      },
      "source": [
        "import numpy as np\n",
        "\n",
        "# Initializing the dataset.\n",
        "x = np.array([1,2,3,4], dtype=np.float32)\n",
        "y = np.array([2,4,6,8], dtype=np.float32)\n",
        "\n",
        "w = 0.0\n",
        "\n",
        "# Forwad Pass\n",
        "def forward(x):\n",
        "    return (w*x)\n",
        "\n",
        "# Loss \n",
        "def loss(y,y_pred):\n",
        "    return ((y_pred-y)**2).mean()\n",
        "\n",
        "# Backward Propogation\n",
        "def gradient(x,y,y_pred):\n",
        "    return (np.dot(2*x,y_pred-y).mean())\n",
        "\n",
        "print(f'Prediction before training: f(5) = {forward(5):.3f}')\n",
        "\n",
        "# Training\n",
        "epochs=10\n",
        "learning_rate=0.01\n",
        "\n",
        "for epoch in range(epochs):\n",
        "    # Prediction\n",
        "    y_pred = forward(x)\n",
        "\n",
        "    # Loss\n",
        "    l = loss(y,y_pred)\n",
        "\n",
        "    # Gradients\n",
        "    dw = gradient(x,y,y_pred)\n",
        "\n",
        "    # Updated weights\n",
        "    w-=dw*learning_rate\n",
        "\n",
        "    if epoch%1==0:\n",
        "        print(f'epoch: {epoch+1}, w:{w:.3f}, loss:{l:.8f}')\n",
        "\n",
        "print(f'Prediction after training: f(5) = {forward(5):.3f}')\n"
      ],
      "execution_count": 9,
      "outputs": [
        {
          "output_type": "stream",
          "text": [
            "Prediction before training: f(5) = 0.000\n",
            "epoch: 1, w:1.200, loss:30.00000000\n",
            "epoch: 2, w:1.680, loss:4.79999924\n",
            "epoch: 3, w:1.872, loss:0.76800019\n",
            "epoch: 4, w:1.949, loss:0.12288000\n",
            "epoch: 5, w:1.980, loss:0.01966083\n",
            "epoch: 6, w:1.992, loss:0.00314574\n",
            "epoch: 7, w:1.997, loss:0.00050331\n",
            "epoch: 8, w:1.999, loss:0.00008053\n",
            "epoch: 9, w:1.999, loss:0.00001288\n",
            "epoch: 10, w:2.000, loss:0.00000206\n",
            "Prediction after training: f(5) = 9.999\n"
          ],
          "name": "stdout"
        }
      ]
    },
    {
      "cell_type": "markdown",
      "metadata": {
        "id": "B5_nfIKXNYqr"
      },
      "source": [
        "##Basic PyTorch Pipline.\n",
        "\n",
        "1. Design the Model (input, output size)\n",
        "2. Construct the loss and optimizers\n",
        "3. Training Loop\n",
        "- Forward pass: compute predictions\n",
        "- Backward Pass: Gradients\n",
        "- Update Weights"
      ]
    },
    {
      "cell_type": "markdown",
      "metadata": {
        "id": "n-Vv2Hq1HO1V"
      },
      "source": [
        "## Changing Gradient Code from numpy to PyTorch.\n",
        "*   Prediction : Manually\n",
        "*   Gradient Computation : Autograd\n",
        "*   Loss Computation : Manually\n",
        "*   parameter Update : Manually\n"
      ]
    },
    {
      "cell_type": "code",
      "metadata": {
        "colab": {
          "base_uri": "https://localhost:8080/"
        },
        "id": "eQ373ugeFNsb",
        "outputId": "5c437b3c-a129-4610-a554-8c83a78a3385"
      },
      "source": [
        "import torch\n",
        "\n",
        "# Initializing the dataset.\n",
        "x = torch.tensor([1,2,3,4], dtype=torch.float32)\n",
        "y = torch.tensor([2,4,6,8], dtype=torch.float32)\n",
        "\n",
        "w = torch.tensor(0.0, dtype=torch.float32, requires_grad=True)\n",
        "\n",
        "# Forwad Pass\n",
        "def forward(x):\n",
        "    return (w*x)\n",
        "\n",
        "# Loss \n",
        "def loss(y,y_pred):\n",
        "    return ((y_pred-y)**2).mean()\n",
        "\n",
        "print(f'Prediction before training: f(5) = {forward(5):.3f}')\n",
        "\n",
        "# Training\n",
        "epochs=100\n",
        "learning_rate=0.01\n",
        "\n",
        "for epoch in range(epochs):\n",
        "    # Prediction\n",
        "    y_pred = forward(x)\n",
        "\n",
        "    # Loss\n",
        "    l = loss(y,y_pred)\n",
        "\n",
        "    # Gradients\n",
        "    l.backward() # dl/dw\n",
        "\n",
        "    # Following opearion is not a part of computational graph.\n",
        "    with torch.no_grad():\n",
        "        # Updated weights\n",
        "        w-=w.grad*learning_rate\n",
        "\n",
        "    # Zero down the gradients\n",
        "    w.grad.zero_()\n",
        "\n",
        "    if epoch%10==0:\n",
        "        print(f'epoch: {epoch+1}, w:{w:.3f}, loss:{l:.8f}')\n",
        "\n",
        "print(f'Prediction after training: f(5) = {forward(5):.3f}')\n"
      ],
      "execution_count": 13,
      "outputs": [
        {
          "output_type": "stream",
          "text": [
            "Prediction before training: f(5) = 0.000\n",
            "epoch: 1, w:0.300, loss:30.00000000\n",
            "epoch: 11, w:1.665, loss:1.16278565\n",
            "epoch: 21, w:1.934, loss:0.04506890\n",
            "epoch: 31, w:1.987, loss:0.00174685\n",
            "epoch: 41, w:1.997, loss:0.00006770\n",
            "epoch: 51, w:1.999, loss:0.00000262\n",
            "epoch: 61, w:2.000, loss:0.00000010\n",
            "epoch: 71, w:2.000, loss:0.00000000\n",
            "epoch: 81, w:2.000, loss:0.00000000\n",
            "epoch: 91, w:2.000, loss:0.00000000\n",
            "Prediction after training: f(5) = 10.000\n"
          ],
          "name": "stdout"
        }
      ]
    },
    {
      "cell_type": "markdown",
      "metadata": {
        "id": "seO740msKC3h"
      },
      "source": [
        "## Changing Loss and Parameter Update Code from Manual to PyTorch.\n",
        "*   Prediction : Manually\n",
        "*   Gradient Computation : Autograd\n",
        "*   Loss Computation : PyTorch Loss\n",
        "*   parameter Update : PyTorch Optimizer\n"
      ]
    },
    {
      "cell_type": "code",
      "metadata": {
        "colab": {
          "base_uri": "https://localhost:8080/"
        },
        "id": "1nC_FsdFKRKH",
        "outputId": "7bb25276-f127-470a-87fb-e878bb3dcda3"
      },
      "source": [
        "import torch\n",
        "import torch.nn as nn\n",
        "\n",
        "# Initializing the dataset.\n",
        "x = torch.tensor([1,2,3,4], dtype=torch.float32)\n",
        "y = torch.tensor([2,4,6,8], dtype=torch.float32)\n",
        "\n",
        "w = torch.tensor(0.0, dtype=torch.float32, requires_grad=True)\n",
        "\n",
        "# Forwad Pass\n",
        "def forward(x):\n",
        "    return (w*x)\n",
        "\n",
        "print(f'Prediction before training: f(5) = {forward(5):.3f}')\n",
        "\n",
        "# Training\n",
        "epochs=100\n",
        "learning_rate=0.01\n",
        "\n",
        "loss = nn.MSELoss()\n",
        "optimizer = torch.optim.SGD([w], lr=learning_rate)\n",
        "\n",
        "for epoch in range(epochs):\n",
        "    # Prediction\n",
        "    y_pred = forward(x)\n",
        "\n",
        "    # Loss\n",
        "    l = loss(y,y_pred)\n",
        "\n",
        "    # Gradient\n",
        "    l.backward() # dl/dw\n",
        "\n",
        "    # Update Weights\n",
        "    optimizer.step()\n",
        "\n",
        "    # Zero down the gradients\n",
        "    optimizer.zero_grad()\n",
        "\n",
        "    if epoch%10==0:\n",
        "        print(f'epoch: {epoch+1}, w:{w:.3f}, loss:{l:.8f}')\n",
        "\n",
        "print(f'Prediction after training: f(5) = {forward(5):.3f}')\n"
      ],
      "execution_count": 16,
      "outputs": [
        {
          "output_type": "stream",
          "text": [
            "Prediction before training: f(5) = 0.000\n",
            "epoch: 1, w:0.300, loss:30.00000000\n",
            "epoch: 11, w:1.665, loss:1.16278565\n",
            "epoch: 21, w:1.934, loss:0.04506890\n",
            "epoch: 31, w:1.987, loss:0.00174685\n",
            "epoch: 41, w:1.997, loss:0.00006770\n",
            "epoch: 51, w:1.999, loss:0.00000262\n",
            "epoch: 61, w:2.000, loss:0.00000010\n",
            "epoch: 71, w:2.000, loss:0.00000000\n",
            "epoch: 81, w:2.000, loss:0.00000000\n",
            "epoch: 91, w:2.000, loss:0.00000000\n",
            "Prediction after training: f(5) = 10.000\n"
          ],
          "name": "stdout"
        }
      ]
    },
    {
      "cell_type": "markdown",
      "metadata": {
        "id": "qYzcBcXDNPt6"
      },
      "source": [
        "## Changing Prediction Code from Manual to PyTorch.\n",
        "*   Prediction : PyTorch Model\n",
        "*   Gradient Computation : Autograd\n",
        "*   Loss Computation : PyTorch Loss\n",
        "*   parameter Update : PyTorch Optimizer\n"
      ]
    },
    {
      "cell_type": "code",
      "metadata": {
        "colab": {
          "base_uri": "https://localhost:8080/"
        },
        "id": "MJW4KkMPMJOx",
        "outputId": "ce564a44-00f0-46b7-b2d5-3d1474f33205"
      },
      "source": [
        "import torch\n",
        "import torch.nn as nn\n",
        "\n",
        "# Initializing the dataset.\n",
        "x = torch.tensor([[1],[2],[3],[4]], dtype=torch.float32)\n",
        "y = torch.tensor([[2],[4],[6],[8]], dtype=torch.float32)\n",
        "\n",
        "x_test = torch.tensor([5], dtype=torch.float32)\n",
        "\n",
        "n_samples,n_features = x.shape\n",
        "\n",
        "input_size = n_features\n",
        "output_size = n_features\n",
        "\n",
        "#model = nn.Linear(input_size, output_size)\n",
        "#    OR\n",
        "class LinearRegression(nn.Module):\n",
        "    def __init__(self, input_dim, output_dim):\n",
        "        super(LinearRegression,self).__init__()\n",
        "        # Define Layers\n",
        "        self.linear = nn.Linear(input_dim, output_dim)\n",
        "    \n",
        "    def forward(self,x):\n",
        "        return self.linear(x)\n",
        "\n",
        "model=LinearRegression(input_size,output_size)\n",
        "\n",
        "print(f'Prediction before training: f(5) = {model(x_test).item():.3f}')\n",
        "\n",
        "# Training\n",
        "epochs=100\n",
        "learning_rate=0.01\n",
        "\n",
        "loss = nn.MSELoss()\n",
        "optimizer = torch.optim.SGD(model.parameters(), lr=learning_rate)\n",
        "\n",
        "for epoch in range(epochs):\n",
        "    # Prediction\n",
        "    y_pred = model(x)\n",
        "\n",
        "    # Loss\n",
        "    l = loss(y,y_pred)\n",
        "\n",
        "    # Gradient\n",
        "    l.backward() # dl/dw\n",
        "\n",
        "    # Update Weights\n",
        "    optimizer.step()\n",
        "\n",
        "    # Zero down the gradients\n",
        "    optimizer.zero_grad()\n",
        "\n",
        "    if epoch%10==0:\n",
        "        w,b = model.parameters()\n",
        "        print(f'epoch: {epoch+1}, w:{w[0][0].item():.3f}, loss:{l:.8f}')\n",
        "\n",
        "print(f'Prediction after training: f(5) = {model(x_test).item():.3f}')\n"
      ],
      "execution_count": 22,
      "outputs": [
        {
          "output_type": "stream",
          "text": [
            "Prediction before training: f(5) = 0.748\n",
            "epoch: 1, w:0.301, loss:23.66469574\n",
            "epoch: 11, w:1.422, loss:0.80103278\n",
            "epoch: 21, w:1.611, loss:0.19850725\n",
            "epoch: 31, w:1.650, loss:0.17257069\n",
            "epoch: 41, w:1.665, loss:0.16215414\n",
            "epoch: 51, w:1.676, loss:0.15270630\n",
            "epoch: 61, w:1.685, loss:0.14381777\n",
            "epoch: 71, w:1.695, loss:0.13544686\n",
            "epoch: 81, w:1.704, loss:0.12756306\n",
            "epoch: 91, w:1.712, loss:0.12013827\n",
            "Prediction after training: f(5) = 9.423\n"
          ],
          "name": "stdout"
        }
      ]
    }
  ]
}