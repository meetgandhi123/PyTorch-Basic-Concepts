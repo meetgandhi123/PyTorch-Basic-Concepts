{
  "nbformat": 4,
  "nbformat_minor": 0,
  "metadata": {
    "colab": {
      "name": "00: PyTorch Basic Syntax.ipynb",
      "provenance": [],
      "collapsed_sections": [
        "eHnc8sdXqodN",
        "VvHnU7PGrOV9",
        "1nQ0opJErUV0",
        "3ehwCEY8rgpM",
        "qN9c9pZuryyt"
      ],
      "authorship_tag": "ABX9TyNDHKR7ZOw3LpngvvdNOf1h",
      "include_colab_link": true
    },
    "kernelspec": {
      "name": "python3",
      "display_name": "Python 3"
    },
    "language_info": {
      "name": "python"
    }
  },
  "cells": [
    {
      "cell_type": "markdown",
      "metadata": {
        "id": "view-in-github",
        "colab_type": "text"
      },
      "source": [
        "<a href=\"https://colab.research.google.com/github/meetgandhi123/PyTorch-Basic-Concepts/blob/main/00_PyTorch_Basic_Syntax.ipynb\" target=\"_parent\"><img src=\"https://colab.research.google.com/assets/colab-badge.svg\" alt=\"Open In Colab\"/></a>"
      ]
    },
    {
      "cell_type": "markdown",
      "metadata": {
        "id": "eHnc8sdXqodN"
      },
      "source": [
        "## Basic Initialization\n",
        "\n",
        "\n",
        "*   Empty Tensor\n",
        "*   Zero Tensor\n",
        "*   Ones Tensor\n",
        "*   Getting Data Type\n",
        "*   Getting size"
      ]
    },
    {
      "cell_type": "code",
      "metadata": {
        "id": "jiAhWCnAqdE9"
      },
      "source": [
        "import torch"
      ],
      "execution_count": 1,
      "outputs": []
    },
    {
      "cell_type": "code",
      "metadata": {
        "colab": {
          "base_uri": "https://localhost:8080/"
        },
        "id": "WAbA3Q2hqrXk",
        "outputId": "2e4d2ca0-e75b-4736-89ae-17084570dd59"
      },
      "source": [
        "x = torch.empty(1, dtype=torch.int)\n",
        "print(x)"
      ],
      "execution_count": 2,
      "outputs": [
        {
          "output_type": "stream",
          "text": [
            "tensor([387677760], dtype=torch.int32)\n"
          ],
          "name": "stdout"
        }
      ]
    },
    {
      "cell_type": "code",
      "metadata": {
        "colab": {
          "base_uri": "https://localhost:8080/"
        },
        "id": "NaR9MIsIqwgg",
        "outputId": "1b38ad8f-1eec-4d15-e364-006aa3d30361"
      },
      "source": [
        "x = torch.zeros(1, dtype=torch.int)\n",
        "print(x)"
      ],
      "execution_count": 3,
      "outputs": [
        {
          "output_type": "stream",
          "text": [
            "tensor([0], dtype=torch.int32)\n"
          ],
          "name": "stdout"
        }
      ]
    },
    {
      "cell_type": "code",
      "metadata": {
        "colab": {
          "base_uri": "https://localhost:8080/"
        },
        "id": "FHcrux02q5EH",
        "outputId": "b3f32733-db9c-467e-e8f2-0f96d52a582c"
      },
      "source": [
        "x = torch.ones(1, dtype=torch.int)\n",
        "print(x)"
      ],
      "execution_count": 4,
      "outputs": [
        {
          "output_type": "stream",
          "text": [
            "tensor([1], dtype=torch.int32)\n"
          ],
          "name": "stdout"
        }
      ]
    },
    {
      "cell_type": "code",
      "metadata": {
        "colab": {
          "base_uri": "https://localhost:8080/"
        },
        "id": "0NTD1hNwq9s7",
        "outputId": "41bf2699-f9bc-4054-b096-e5e084f7287b"
      },
      "source": [
        "x.dtype"
      ],
      "execution_count": 5,
      "outputs": [
        {
          "output_type": "execute_result",
          "data": {
            "text/plain": [
              "torch.int32"
            ]
          },
          "metadata": {
            "tags": []
          },
          "execution_count": 5
        }
      ]
    },
    {
      "cell_type": "code",
      "metadata": {
        "colab": {
          "base_uri": "https://localhost:8080/"
        },
        "id": "-SrcaUpMq_na",
        "outputId": "1038b98c-c87d-4f7b-b1ac-42ee17e63d0f"
      },
      "source": [
        "x.size()"
      ],
      "execution_count": 6,
      "outputs": [
        {
          "output_type": "execute_result",
          "data": {
            "text/plain": [
              "torch.Size([1])"
            ]
          },
          "metadata": {
            "tags": []
          },
          "execution_count": 6
        }
      ]
    },
    {
      "cell_type": "markdown",
      "metadata": {
        "id": "VvHnU7PGrOV9"
      },
      "source": [
        "##Inplace Operation"
      ]
    },
    {
      "cell_type": "code",
      "metadata": {
        "id": "BaDVVNu3rAnb"
      },
      "source": [
        "y = torch.rand(2)\n",
        "x = torch.rand(2)\n",
        "print(x,y)\n",
        "y.add_(x)\n",
        "print(y)"
      ],
      "execution_count": null,
      "outputs": []
    },
    {
      "cell_type": "markdown",
      "metadata": {
        "id": "1nQ0opJErUV0"
      },
      "source": [
        "## Conversion \n",
        "\n",
        "*   List to Tensor\n",
        "*   Numpy to Tensor and visa versa\n",
        "\n"
      ]
    },
    {
      "cell_type": "code",
      "metadata": {
        "colab": {
          "base_uri": "https://localhost:8080/"
        },
        "id": "4SlzPx0XrbTU",
        "outputId": "6fc825b5-b984-452e-b1cb-39015d812d58"
      },
      "source": [
        "# List to Tensor\n",
        "l=[1,2,3]\n",
        "x = torch.tensor(l)\n",
        "print(x.dtype)"
      ],
      "execution_count": 7,
      "outputs": [
        {
          "output_type": "stream",
          "text": [
            "torch.int64\n"
          ],
          "name": "stdout"
        }
      ]
    },
    {
      "cell_type": "code",
      "metadata": {
        "colab": {
          "base_uri": "https://localhost:8080/"
        },
        "id": "GYhDdr5Bra7F",
        "outputId": "842e9a68-b53a-42a4-fa80-92c7f0b2592b"
      },
      "source": [
        "# Numpy to Tensor\n",
        "import numpy as np\n",
        "\n",
        "a=np.ones(5)\n",
        "b=torch.from_numpy(a)\n",
        "print(b.dtype)\n",
        "\n",
        "# Tensor to Numpy\n",
        "a=torch.rand(5)\n",
        "b=a.numpy()\n",
        "print(type(b))"
      ],
      "execution_count": 8,
      "outputs": [
        {
          "output_type": "stream",
          "text": [
            "torch.float64\n",
            "<class 'numpy.ndarray'>\n"
          ],
          "name": "stdout"
        }
      ]
    },
    {
      "cell_type": "markdown",
      "metadata": {
        "id": "3ehwCEY8rgpM"
      },
      "source": [
        "## Reshape"
      ]
    },
    {
      "cell_type": "code",
      "metadata": {
        "colab": {
          "base_uri": "https://localhost:8080/"
        },
        "id": "fa15q7axriWI",
        "outputId": "5b1ffeb1-9c51-4fc2-efbb-d5850c3b97b6"
      },
      "source": [
        "x = torch.rand(10)\n",
        "\n",
        "y = x.view(2,5)\n",
        "print(y.size())\n",
        "\n",
        "z = x.view(-1,5)\n",
        "print(z.size())"
      ],
      "execution_count": 9,
      "outputs": [
        {
          "output_type": "stream",
          "text": [
            "torch.Size([2, 5])\n",
            "torch.Size([2, 5])\n"
          ],
          "name": "stdout"
        }
      ]
    },
    {
      "cell_type": "markdown",
      "metadata": {
        "id": "qN9c9pZuryyt"
      },
      "source": [
        "## Autograd"
      ]
    },
    {
      "cell_type": "code",
      "metadata": {
        "colab": {
          "base_uri": "https://localhost:8080/"
        },
        "id": "-wCyZ46Irx6d",
        "outputId": "f08d1592-7f4a-4dad-d3f3-2007b37544b9"
      },
      "source": [
        "x = torch.rand(3, requires_grad=True)\n",
        "\n",
        "y=x+2\n",
        "z=y*y*2\n",
        "\n",
        "# Here using the mean functio we are converting [1,3] \n",
        "# size tensor to [1,1]\n",
        "z=z.mean()\n",
        "\n",
        "z.backward()\n",
        "print(x.grad)"
      ],
      "execution_count": 10,
      "outputs": [
        {
          "output_type": "stream",
          "text": [
            "tensor([3.0104, 3.8702, 2.7725])\n"
          ],
          "name": "stdout"
        }
      ]
    },
    {
      "cell_type": "code",
      "metadata": {
        "colab": {
          "base_uri": "https://localhost:8080/"
        },
        "id": "JZlcBD2Mr6fW",
        "outputId": "98ada956-1365-41b5-89f5-413e20b8e019"
      },
      "source": [
        "x = torch.rand(3, requires_grad=True)\n",
        "\n",
        "y=x+2\n",
        "z=y*y*2\n",
        "\n",
        "# If we are not conversting it in a scalor value\n",
        "# then we need to pass a tensor to compute backward()\n",
        "\n",
        "v=torch.tensor([1.0,0.1,0.01],dtype=torch.float32)\n",
        "\n",
        "z.backward(v)\n",
        "print(x.grad)"
      ],
      "execution_count": 11,
      "outputs": [
        {
          "output_type": "stream",
          "text": [
            "tensor([11.9812,  0.8899,  0.0870])\n"
          ],
          "name": "stdout"
        }
      ]
    },
    {
      "cell_type": "markdown",
      "metadata": {
        "id": "BB7Lr8-fr9B1"
      },
      "source": [
        "How to prevent backpropogation.\n",
        "1.   requires_grad_(False)\n",
        "2.   .detach()\n",
        "3.   with torch.no_grad():\n",
        "\n"
      ]
    },
    {
      "cell_type": "code",
      "metadata": {
        "colab": {
          "base_uri": "https://localhost:8080/"
        },
        "id": "KlAezfrJr7cl",
        "outputId": "60163108-f4d2-4d65-8354-d05c205838f2"
      },
      "source": [
        "# 1. requires_grad(False)\n",
        "x= torch.ones(5, requires_grad=True)\n",
        "print(x)\n",
        "x.requires_grad_(False)\n",
        "print(x)"
      ],
      "execution_count": 12,
      "outputs": [
        {
          "output_type": "stream",
          "text": [
            "tensor([1., 1., 1., 1., 1.], requires_grad=True)\n",
            "tensor([1., 1., 1., 1., 1.])\n"
          ],
          "name": "stdout"
        }
      ]
    },
    {
      "cell_type": "code",
      "metadata": {
        "colab": {
          "base_uri": "https://localhost:8080/"
        },
        "id": "VrkONzD3sC5a",
        "outputId": "02eb184f-5f33-4bd9-967f-180202d7e291"
      },
      "source": [
        "# 2. detach()\n",
        "x= torch.ones(5, requires_grad=True)\n",
        "print(x)\n",
        "y=x.detach()\n",
        "print(y)"
      ],
      "execution_count": 13,
      "outputs": [
        {
          "output_type": "stream",
          "text": [
            "tensor([1., 1., 1., 1., 1.], requires_grad=True)\n",
            "tensor([1., 1., 1., 1., 1.])\n"
          ],
          "name": "stdout"
        }
      ]
    },
    {
      "cell_type": "code",
      "metadata": {
        "colab": {
          "base_uri": "https://localhost:8080/"
        },
        "id": "IjPmP7K-sFy2",
        "outputId": "c25b94af-4d19-4ad2-89fe-de5bd6ee4e3e"
      },
      "source": [
        "# 3. with torch.no_grad()\n",
        "x= torch.ones(5, requires_grad=True)\n",
        "with torch.no_grad():\n",
        "  y=x+2\n",
        "  print(y)"
      ],
      "execution_count": 14,
      "outputs": [
        {
          "output_type": "stream",
          "text": [
            "tensor([3., 3., 3., 3., 3.])\n"
          ],
          "name": "stdout"
        }
      ]
    },
    {
      "cell_type": "code",
      "metadata": {
        "id": "kI3aQa4EsJnJ"
      },
      "source": [
        ""
      ],
      "execution_count": null,
      "outputs": []
    }
  ]
}
