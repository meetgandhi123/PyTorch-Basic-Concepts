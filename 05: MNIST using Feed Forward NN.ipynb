{
  "nbformat": 4,
  "nbformat_minor": 0,
  "metadata": {
    "colab": {
      "name": "05: MNIST.ipynb",
      "provenance": [],
      "collapsed_sections": [],
      "authorship_tag": "ABX9TyPACvN82Pb44gi4Nyk1TOdL",
      "include_colab_link": true
    },
    "kernelspec": {
      "name": "python3",
      "display_name": "Python 3"
    },
    "language_info": {
      "name": "python"
    }
  },
  "cells": [
    {
      "cell_type": "markdown",
      "metadata": {
        "id": "view-in-github",
        "colab_type": "text"
      },
      "source": [
        "<a href=\"https://colab.research.google.com/github/meetgandhi123/PyTorch-Basic-Concepts/blob/main/05_MNIST.ipynb\" target=\"_parent\"><img src=\"https://colab.research.google.com/assets/colab-badge.svg\" alt=\"Open In Colab\"/></a>"
      ]
    },
    {
      "cell_type": "code",
      "metadata": {
        "colab": {
          "base_uri": "https://localhost:8080/"
        },
        "id": "bCtV6wnNt5GX",
        "outputId": "f26c3d0a-e234-4c28-dae7-2c90f43a5579"
      },
      "source": [
        "import torch\n",
        "import torch.nn as nn\n",
        "import torchvision\n",
        "import torchvision.transforms as transforms\n",
        "import matplotlib.pyplot as plt\n",
        "\n",
        "# device config.\n",
        "Device = torch.device('cuda' if torch.cuda.is_available() else 'cpu')\n",
        "print(f'Device usage: {Device}')\n",
        "\n",
        "# Hyper Parameter\n",
        "input_size = 784 #28*28\n",
        "hidden_size = 100\n",
        "batch_size = 100\n",
        "num_epoch = 2\n",
        "num_classes = 10\n",
        "learning_rate = 0.001\n",
        "\n",
        "# Dataset\n",
        "train_dataset = torchvision.datasets.MNIST(root='./data', train=True, download=True, transform=transforms.ToTensor())\n",
        "test_dataset = torchvision.datasets.MNIST(root='./data', train=False, transform=transforms.ToTensor())\n",
        "\n",
        "# Dataloader\n",
        "train_loader = torch.utils.data.DataLoader(dataset=train_dataset, batch_size=batch_size, shuffle=True)\n",
        "test_loader = torch.utils.data.DataLoader(dataset=test_dataset, batch_size=batch_size, shuffle=True)\n",
        "\n",
        "sample = iter(train_loader)\n",
        "input, output = sample.next()\n",
        "# print(input.shape, output.shape)\n",
        "# torch.Size([100, 1, 28, 28]) torch.Size([100])\n",
        "\n",
        "# Model\n",
        "class NeuralNet(nn.Module):\n",
        "    def __init__(self, input_size, hidden_size, num_classes):\n",
        "        super(NeuralNet, self).__init__()\n",
        "        self.l1 = nn.Linear(input_size, hidden_size)\n",
        "        self.relu = nn.ReLU()\n",
        "        self.l2 = nn.Linear(hidden_size, num_classes)\n",
        "    def forward(self, x):\n",
        "        out = self.l1(x)\n",
        "        out = self.relu(out)\n",
        "        out = self.l2(out)\n",
        "        return out\n",
        "    \n",
        "model = NeuralNet(input_size, hidden_size, num_classes)\n",
        "\n",
        "# Loss and Optimizers\n",
        "criterion = nn.CrossEntropyLoss()\n",
        "optimizer = torch.optim.Adam(model.parameters(), lr = learning_rate)\n",
        "\n",
        "# Training loop\n",
        "num_step = len(train_loader)\n",
        "for epoch in range(num_epoch):\n",
        "    for i, (image,labels) in enumerate(train_loader):\n",
        "        # 100,1,28,28 -> 100,28*28\n",
        "        image = image.reshape(-1,28*28).to(Device)\n",
        "        labels = labels.to(Device)\n",
        "\n",
        "        # Forward\n",
        "        output = model(image)\n",
        "        loss = criterion(output,labels)\n",
        "\n",
        "        # Backward\n",
        "        optimizer.zero_grad()\n",
        "        loss.backward()\n",
        "        optimizer.step()\n",
        "\n",
        "        if (i+1)%100==0:\n",
        "            print(f'Epoch: {epoch+1} / {num_epoch}, step: {i+1} / {num_step}, loss: {loss.item():.4f}')\n",
        "\n",
        "# Testing\n",
        "with torch.no_grad():\n",
        "    n_correct = 0\n",
        "    n_samples = 0\n",
        "    for images, labels in test_loader:\n",
        "        images = images.reshape(-1,28*28).to(Device)\n",
        "        labels = labels.to(Device)\n",
        "        output = model(images)\n",
        "\n",
        "        # Value, Index\n",
        "        _, predictions = torch.max(output,1)\n",
        "        n_samples += labels.shape[0]\n",
        "        n_correct += (predictions==labels).sum().item()\n",
        "\n",
        "    acc = 100.0 * n_correct/n_samples\n",
        "    print(f'accuract: {acc}')\n"
      ],
      "execution_count": 11,
      "outputs": [
        {
          "output_type": "stream",
          "text": [
            "Device usage: cpu\n",
            "Epoch: 1 / 2, step: 100 / 600, loss: 0.3580\n",
            "Epoch: 1 / 2, step: 200 / 600, loss: 0.4308\n",
            "Epoch: 1 / 2, step: 300 / 600, loss: 0.3156\n",
            "Epoch: 1 / 2, step: 400 / 600, loss: 0.2575\n",
            "Epoch: 1 / 2, step: 500 / 600, loss: 0.2301\n",
            "Epoch: 1 / 2, step: 600 / 600, loss: 0.1819\n",
            "Epoch: 2 / 2, step: 100 / 600, loss: 0.3010\n",
            "Epoch: 2 / 2, step: 200 / 600, loss: 0.2975\n",
            "Epoch: 2 / 2, step: 300 / 600, loss: 0.2897\n",
            "Epoch: 2 / 2, step: 400 / 600, loss: 0.1492\n",
            "Epoch: 2 / 2, step: 500 / 600, loss: 0.1777\n",
            "Epoch: 2 / 2, step: 600 / 600, loss: 0.2044\n",
            "accuract: 95.25\n"
          ],
          "name": "stdout"
        }
      ]
    }
  ]
}
