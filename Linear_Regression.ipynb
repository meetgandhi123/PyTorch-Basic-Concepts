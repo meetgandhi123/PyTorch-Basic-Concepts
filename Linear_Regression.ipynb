{
  "nbformat": 4,
  "nbformat_minor": 0,
  "metadata": {
    "colab": {
      "name": "Linear Regression.ipynb",
      "provenance": [],
      "collapsed_sections": [],
      "authorship_tag": "ABX9TyNCuANbFCYQgOzyGYWCZ4k0",
      "include_colab_link": true
    },
    "kernelspec": {
      "name": "python3",
      "display_name": "Python 3"
    },
    "language_info": {
      "name": "python"
    }
  },
  "cells": [
    {
      "cell_type": "markdown",
      "metadata": {
        "id": "view-in-github",
        "colab_type": "text"
      },
      "source": [
        "<a href=\"https://colab.research.google.com/github/meetgandhi123/PyTorch-Basic-Concepts/blob/main/Linear_Regression.ipynb\" target=\"_parent\"><img src=\"https://colab.research.google.com/assets/colab-badge.svg\" alt=\"Open In Colab\"/></a>"
      ]
    },
    {
      "cell_type": "code",
      "metadata": {
        "colab": {
          "base_uri": "https://localhost:8080/",
          "height": 442
        },
        "id": "Z80jfl2itKHJ",
        "outputId": "a0acdc16-d399-4e07-d1aa-a2b4a0a30cd4"
      },
      "source": [
        "import torch\n",
        "import torch.nn as nn\n",
        "\n",
        "import numpy as np\n",
        "from sklearn import datasets\n",
        "import matplotlib.pyplot as plt\n",
        "\n",
        "# Data Generation\n",
        "x_numpy, y_numpy = datasets.make_regression(n_samples=100, n_features=1, noise=20, random_state=1)\n",
        "\n",
        "x = torch.from_numpy(x_numpy.astype(np.float32))\n",
        "y = torch.from_numpy(y_numpy.astype(np.float32))\n",
        "\n",
        "y = y.view(-1,1)\n",
        "\n",
        "n_samples, n_features = x.shape\n",
        "\n",
        "# Model\n",
        "input_size = n_features\n",
        "output_size = n_features\n",
        "model = nn.Linear(input_size, output_size)\n",
        "\n",
        "# Loss and Optimizaion\n",
        "lr=0.01\n",
        "criterion = nn.MSELoss()\n",
        "optimizer = torch.optim.SGD(model.parameters(), lr=lr)\n",
        "\n",
        "# Training loop\n",
        "num_epoch = 100\n",
        "\n",
        "for epoch in range(num_epoch):\n",
        "    # Forward and loss\n",
        "    y_pred = model(x)\n",
        "    loss = criterion(y_pred,y)\n",
        "\n",
        "    # Backward\n",
        "    loss.backward()\n",
        "\n",
        "    # Weight Update\n",
        "    optimizer.step()\n",
        "\n",
        "    # Empty gradients\n",
        "    optimizer.zero_grad()\n",
        "\n",
        "    if (epoch+1)%10 ==0:\n",
        "        print(f'Epoch: {epoch+1}, Loss: {loss.item():.4f}')\n",
        "\n",
        "# plot\n",
        "predicted = model(x).detach()\n",
        "\n",
        "plt.plot(x_numpy,y_numpy,'ro')\n",
        "plt.plot(x_numpy,predicted,'b')\n",
        "\n",
        "plt.show()"
      ],
      "execution_count": 3,
      "outputs": [
        {
          "output_type": "stream",
          "text": [
            "Epoch: 10, Loss: 4385.9248\n",
            "Epoch: 20, Loss: 3272.1440\n",
            "Epoch: 30, Loss: 2466.3157\n",
            "Epoch: 40, Loss: 1882.6694\n",
            "Epoch: 50, Loss: 1459.5247\n",
            "Epoch: 60, Loss: 1152.4628\n",
            "Epoch: 70, Loss: 929.4490\n",
            "Epoch: 80, Loss: 767.3515\n",
            "Epoch: 90, Loss: 649.4462\n",
            "Epoch: 100, Loss: 563.6285\n"
          ],
          "name": "stdout"
        },
        {
          "output_type": "display_data",
          "data": {
            "image/png": "[encoded data removed]",
            "text/plain": [
              "<Figure size 432x288 with 1 Axes>"
            ]
          },
          "metadata": {
            "tags": [],
            "needs_background": "light"
          }
        }
      ]
    }
  ]
}